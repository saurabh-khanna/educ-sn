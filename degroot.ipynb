{
 "cells": [
  {
   "cell_type": "code",
   "execution_count": 2,
   "id": "aa7bb3b3-47a2-4c14-ab76-9778ad1ba736",
   "metadata": {},
   "outputs": [],
   "source": [
    "import numpy as np\n",
    "from scipy.linalg import eig"
   ]
  },
  {
   "cell_type": "code",
   "execution_count": 5,
   "id": "d7f56cf8-3537-4e84-a82e-9ce29f536a0f",
   "metadata": {},
   "outputs": [],
   "source": [
    "T = np.mat(\"0.2 0.4 0.4;0.8 0.2 0.0;0.8 0.0 0.2\")\n",
    "w, vl, vr = eig(T, left=True)"
   ]
  },
  {
   "cell_type": "code",
   "execution_count": 6,
   "id": "c3362110-6873-4d96-a1ce-301ec8d6af91",
   "metadata": {},
   "outputs": [
    {
     "data": {
      "text/plain": [
       "matrix([[0.2, 0.4, 0.4],\n",
       "        [0.8, 0.2, 0. ],\n",
       "        [0.8, 0. , 0.2]])"
      ]
     },
     "execution_count": 6,
     "metadata": {},
     "output_type": "execute_result"
    }
   ],
   "source": [
    "T"
   ]
  },
  {
   "cell_type": "code",
   "execution_count": 7,
   "id": "b6809b4a-ba98-47cd-91e4-b4012f18b760",
   "metadata": {},
   "outputs": [
    {
     "data": {
      "text/plain": [
       "array([ 1. +0.j, -0.6+0.j,  0.2+0.j])"
      ]
     },
     "execution_count": 7,
     "metadata": {},
     "output_type": "execute_result"
    }
   ],
   "source": [
    "w"
   ]
  },
  {
   "cell_type": "code",
   "execution_count": 8,
   "id": "570485c2-2541-47dc-ab39-593c807406d7",
   "metadata": {},
   "outputs": [
    {
     "data": {
      "text/plain": [
       "array([[ 0.81649658,  0.81649658,  0.        ],\n",
       "       [ 0.40824829, -0.40824829, -0.70710678],\n",
       "       [ 0.40824829, -0.40824829,  0.70710678]])"
      ]
     },
     "execution_count": 8,
     "metadata": {},
     "output_type": "execute_result"
    }
   ],
   "source": [
    "vl"
   ]
  },
  {
   "cell_type": "code",
   "execution_count": 9,
   "id": "5cf4da4e-3286-45bd-ab79-09898d146eb1",
   "metadata": {},
   "outputs": [
    {
     "data": {
      "text/plain": [
       "array([[ 5.77350269e-01,  5.77350269e-01, -2.45326947e-17],\n",
       "       [ 5.77350269e-01, -5.77350269e-01, -7.07106781e-01],\n",
       "       [ 5.77350269e-01, -5.77350269e-01,  7.07106781e-01]])"
      ]
     },
     "execution_count": 9,
     "metadata": {},
     "output_type": "execute_result"
    }
   ],
   "source": [
    "vr"
   ]
  },
  {
   "cell_type": "code",
   "execution_count": null,
   "id": "e82e9fee-a410-4528-89ca-73b82176634e",
   "metadata": {},
   "outputs": [],
   "source": []
  }
 ],
 "metadata": {
  "kernelspec": {
   "display_name": "Python 3",
   "language": "python",
   "name": "python3"
  },
  "language_info": {
   "codemirror_mode": {
    "name": "ipython",
    "version": 3
   },
   "file_extension": ".py",
   "mimetype": "text/x-python",
   "name": "python",
   "nbconvert_exporter": "python",
   "pygments_lexer": "ipython3",
   "version": "3.9.5"
  }
 },
 "nbformat": 4,
 "nbformat_minor": 5
}
