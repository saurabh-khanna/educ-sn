{
 "cells": [
  {
   "cell_type": "code",
   "execution_count": 1,
   "metadata": {},
   "outputs": [],
   "source": [
    "from itertools import combinations\n",
    "from tqdm import tqdm\n",
    "import pandas as pd\n",
    "import xmltodict\n",
    "import networkx as nx"
   ]
  },
  {
   "cell_type": "code",
   "execution_count": 2,
   "metadata": {},
   "outputs": [],
   "source": [
    "def extract_authors(dc):\n",
    "    if type(dc) == list:\n",
    "        result = [\n",
    "            i.get(\"#text\").title().strip()\n",
    "            for i in dc\n",
    "            if i.get(\"#text\") is not None and i.get(\"@scheme\") != \"institution\"\n",
    "        ]\n",
    "        return [x for x in result if x != \"And Others\"]\n",
    "    elif dc.get(\"#text\") is not None and dc.get(\"@scheme\") != \"institution\":\n",
    "        return dc.get(\"#text\").title().strip()\n",
    "\n",
    "\n",
    "def get_edges(auth_list):\n",
    "    return list(combinations(auth_list, 2))\n",
    "\n",
    "def extract_ids(dc):\n",
    "    if type(dc) == list:\n",
    "        return [\n",
    "            i.get(\"#text\").upper().strip()\n",
    "            for i in dc\n",
    "            if i.get(\"#text\") is not None and i.get(\"@scheme\") == \"eric_accno\"\n",
    "        ][0]\n",
    "    elif dc.get(\"#text\") is not None and dc.get(\"@scheme\") == \"eric_accno\":\n",
    "        return dc.get(\"#text\").upper().strip()"
   ]
  },
  {
   "cell_type": "code",
   "execution_count": 3,
   "metadata": {},
   "outputs": [
    {
     "name": "stderr",
     "output_type": "stream",
     "text": [
      "100%|███████████████████████████████████████████████████████████████████████████████████████████████████████████████████████████████████████████████████████████████████████████████████████████████████████| 56/56 [19:01<00:00, 20.39s/it]\n"
     ]
    },
    {
     "name": "stdout",
     "output_type": "stream",
     "text": [
      "<class 'pandas.core.frame.DataFrame'>\n",
      "Int64Index: 908421 entries, 17594 to 44897\n",
      "Data columns (total 39 columns):\n",
      " #   Column                     Non-Null Count   Dtype \n",
      "---  ------                     --------------   ----- \n",
      " 0   dcterms:accessRights       908421 non-null  object\n",
      " 1   dc:subject                 908417 non-null  object\n",
      " 2   dc:creator                 908421 non-null  object\n",
      " 3   dc:type                    908421 non-null  object\n",
      " 4   eric:keywords              398883 non-null  object\n",
      " 5   eric:keywords_geo          301814 non-null  object\n",
      " 6   eric:issn                  746293 non-null  object\n",
      " 7   dc:language                905402 non-null  object\n",
      " 8   dcterms:educationLevel     326980 non-null  object\n",
      " 9   dc:description             907932 non-null  object\n",
      " 10  dc:identifier              908421 non-null  object\n",
      " 11  dc:title                   908421 non-null  object\n",
      " 12  dc:source                  908421 non-null  object\n",
      " 13  eric:citation              908376 non-null  object\n",
      " 14  dc:date                    908417 non-null  object\n",
      " 15  eric:sponsor               14917 non-null   object\n",
      " 16  eric:isbn                  86 non-null      object\n",
      " 17  dcterms:audience           70910 non-null   object\n",
      " 18  eric:pageCount             529933 non-null  object\n",
      " 19  dc:publisher               534037 non-null  object\n",
      " 20  eric:peer_reviewed         908421 non-null  object\n",
      " 21  eric:dateAdded             908421 non-null  object\n",
      " 22  eric:referenceCount        635428 non-null  object\n",
      " 23  eric:abstractor            530523 non-null  object\n",
      " 24  eric:issue                 687778 non-null  object\n",
      " 25  eric:ies_funded            4275 non-null    object\n",
      " 26  eric:contract_number       15005 non-null   object\n",
      " 27  eric:wwcguide_link         916 non-null     object\n",
      " 28  eric:ies_publication_link  2 non-null       object\n",
      " 29  eric:ies_datasource_link   172 non-null     object\n",
      " 30  eric:note                  17499 non-null   object\n",
      " 31  eric:keywords_test         30575 non-null   object\n",
      " 32  eric:keywords_law          11050 non-null   object\n",
      " 33  type                       908421 non-null  object\n",
      " 34  eric:ies_cited             2424 non-null    object\n",
      " 35  eric:wwc_reviewed          928 non-null     object\n",
      " 36  authors                    908421 non-null  object\n",
      " 37  ids                        908421 non-null  object\n",
      " 38  edges                      908421 non-null  object\n",
      "dtypes: object(39)\n",
      "memory usage: 277.2+ MB\n"
     ]
    }
   ],
   "source": [
    "df_all = []\n",
    "\n",
    "for year in tqdm(range(1965, 2021)):\n",
    "    file_name = \"data/eric\" + str(year)\n",
    "    with open(file_name + \".xml\", encoding=\"utf-8\") as fd:\n",
    "        dict = xmltodict.parse(fd.read())\n",
    "    recs = [rec[\"metadata\"] for rec in dict[\"records\"][\"record\"]]\n",
    "    df = pd.DataFrame(recs)\n",
    "    df = df[df['dc:type'].notna()]\n",
    "    df = df[df['eric:peer_reviewed'].notna()]\n",
    "    df['type'] = [''.join(map(str, l)).lower() for l in df['dc:type']]\n",
    "    df = df.loc[df['eric:peer_reviewed'] == 'T']\n",
    "    # df = df[['ids', 'authors', 'edges', 'dc:type', 'dc:subject', 'eric:keywords', 'eric:keywords_geo', 'dc:title', 'eric:pageCount', 'dc:date', 'eric:dateAdded']]\n",
    "    df_all.append(df)\n",
    "df_all = pd.concat(df_all)\n",
    "\n",
    "df_all = df_all.loc[(df_all['type'].str.contains(\"journal\"))]\n",
    "df_all[\"authors\"] = df_all.apply(lambda row: extract_authors(row[\"dc:creator\"]), axis=1)\n",
    "df_all[\"ids\"] = df_all.apply(lambda row: extract_ids(row[\"dc:identifier\"]), axis=1)\n",
    "df_all = df_all[df_all['authors'].notna()]\n",
    "df_all[\"edges\"] = df_all.apply(lambda row: get_edges(sorted(row[\"authors\"])), axis=1)\n",
    "df_all.info()"
   ]
  },
  {
   "cell_type": "code",
   "execution_count": 9,
   "metadata": {},
   "outputs": [],
   "source": [
    "df_all[['dc:date', 'eric:dateAdded']].to_csv(\"data/all.csv\", encoding='utf-8', index=False)"
   ]
  },
  {
   "cell_type": "code",
   "execution_count": null,
   "metadata": {},
   "outputs": [],
   "source": [
    "df_all['eric:peer_reviewed'].value_counts()"
   ]
  },
  {
   "cell_type": "code",
   "execution_count": null,
   "metadata": {},
   "outputs": [],
   "source": []
  },
  {
   "cell_type": "code",
   "execution_count": 4,
   "metadata": {},
   "outputs": [],
   "source": [
    "list1 = df_all[\"authors\"].tolist()\n",
    "list2 = [x for x in list1 if x is not None]  # remove none\n",
    "node_list = [item for sublist in list2 for item in sublist]\n",
    "node_list = list(set(node_list))"
   ]
  },
  {
   "cell_type": "code",
   "execution_count": 5,
   "metadata": {},
   "outputs": [],
   "source": [
    "list1 = df_all[\"edges\"].tolist()\n",
    "list2 = [x for x in list1 if x is not None]  # remove none\n",
    "edge_list = [item for sublist in list2 for item in sublist]"
   ]
  },
  {
   "cell_type": "code",
   "execution_count": 6,
   "metadata": {},
   "outputs": [],
   "source": [
    "G = nx.Graph()\n",
    "G.add_nodes_from(node_list)\n",
    "G.add_edges_from(edge_list)"
   ]
  },
  {
   "cell_type": "code",
   "execution_count": null,
   "metadata": {},
   "outputs": [],
   "source": [
    "nx.write_edgelist(G, \"all.edgelist.gz\")"
   ]
  },
  {
   "cell_type": "code",
   "execution_count": null,
   "metadata": {},
   "outputs": [],
   "source": [
    "# G = nx.read_edgelist(\"all.edgelist.gz\")"
   ]
  },
  {
   "cell_type": "code",
   "execution_count": 29,
   "metadata": {},
   "outputs": [
    {
     "data": {
      "text/plain": [
       "<matplotlib.collections.PathCollection at 0x20fd9fba550>"
      ]
     },
     "execution_count": 29,
     "metadata": {},
     "output_type": "execute_result"
    },
    {
     "data": {
      "image/png": "[encoded data removed]",
      "text/plain": [
       "<Figure size 432x288 with 1 Axes>"
      ]
     },
     "metadata": {},
     "output_type": "display_data"
    }
   ],
   "source": [
    "#nx.info(G, n = \"Mcfarland, Daniel A.\")\n",
    "hub_ego = nx.ego_graph(G, \"Bettinger, Eric\")\n",
    "pos = nx.spring_layout(hub_ego)\n",
    "nx.draw(hub_ego, pos, node_color=\"b\", node_size=50, with_labels=True)\n",
    "options = {\"node_size\": 300, \"node_color\": \"r\"}\n",
    "nx.draw_networkx_nodes(hub_ego, pos, nodelist=[\"Bettinger, Eric\"], **options)"
   ]
  },
  {
   "cell_type": "code",
   "execution_count": 21,
   "metadata": {},
   "outputs": [
    {
     "data": {
      "text/plain": [
       "['Mcfarland, Daniel', 'Mcfarland, Daniel A.', 'Mcfarland, Dan']"
      ]
     },
     "execution_count": 21,
     "metadata": {},
     "output_type": "execute_result"
    }
   ],
   "source": [
    "[s for s in node_list if \"Mcfarland, Dan\" in s]"
   ]
  },
  {
   "cell_type": "code",
   "execution_count": 30,
   "metadata": {},
   "outputs": [
    {
     "data": {
      "text/plain": [
       "'Name: \\nType: Graph\\nNumber of nodes: 824374\\nNumber of edges: 1610204\\nAverage degree:   3.9065'"
      ]
     },
     "execution_count": 30,
     "metadata": {},
     "output_type": "execute_result"
    }
   ],
   "source": [
    "nx.info(G)"
   ]
  },
  {
   "cell_type": "code",
   "execution_count": null,
   "metadata": {},
   "outputs": [],
   "source": []
  }
 ],
 "metadata": {
  "kernelspec": {
   "display_name": "Python 3",
   "language": "python",
   "name": "python3"
  },
  "language_info": {
   "codemirror_mode": {
    "name": "ipython",
    "version": 3
   },
   "file_extension": ".py",
   "mimetype": "text/x-python",
   "name": "python",
   "nbconvert_exporter": "python",
   "pygments_lexer": "ipython3",
   "version": "3.9.5"
  }
 },
 "nbformat": 4,
 "nbformat_minor": 4
}
